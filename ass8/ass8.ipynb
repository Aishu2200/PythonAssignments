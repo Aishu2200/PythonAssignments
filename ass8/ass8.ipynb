1. Write a Python function IterateLogistic() that takes three parameters: Two real numbers and an integer.
2. Interpret the first two—x and r—as the current state and the control parameter value for the Logistic Map: f(x) = r x (1 - x).
3. The function should return the state after the given number of iterations, which is the third parameter, call it n.
4. This is all the function should do—the numerical iterations: xn = fn (x0).
5. Test your function interactively in iPython.
6. Generating experimental data:
7. Write a Python program LogisticData.py that generates 10 data files, each with 50 Logistic Map iterates, at map parameter r = 4.0.
8. Each line in the files should list the iteration number n and then the iteration value xn.
9. Start each program run with a different initial condition x0. The initial conditions should be close: Use x0 = 0.3 + deltai, where deltai = i * 0.00005, i = 0, 1, 2, 3, ..., 9.
10. Name the 10 files "data1" to "data10".
11. Hint: Use the program you wrote for the Part B exercises to generate the data files, adding the iteration function you wrote above

def IterateLogistic(x,r,n):

    for it in range(n):

        x = r*x*(1-x)

    return x

​

for i in range(10):

    f_name = "data"+str(i)+'.txt'

    x0 = 0.3+(i*0.00005)

    r = 4.0

    f = open(f_name,"w")

    for j in range(0,50):

        f.write(str(j)+" "+str(IterateLogistic(x0,r,j))+"\n")

    f.close()
    
12. Storing and retrieving formatted data:
13. Write a Python module MatrixIO.py containing two functions.
14. One function should read a file containing a text representation of a matrix; that is, a certain number of lines each containing the same number of numbers separated by spaces.
15. The function should return an array containing this data. Note that the function should work for matrices of any size.
16. The second function should do the inverse: write a matrix of any size to a text file.
17. Use these in a Python program MatrixReadWrite.py that reads in file data7 from the previous exercise and then writes it out to a file data7.out.
18. Hint: Use the matrix module written above by importing it.

#readFunction
def readMatrix(fname):
    fn = open(fname,"r")
    st = (fn.read()).split("\n")
    arr = []
    for i in st:
        if(len(i) != 0):
            arr.append(i.split(" ")) 
    fn.close()
    return arr

data = readMatrix("data7.txt")

#WriteInverseMatrix
def writeInverse(fname,data):
    fn = open(fname,"w")
    n = len(data)
    m = len(data[0])
    for i in range(m):
        for j in range(n):
                fn.write(data[j][i]+" ")
        fn.write("\n")
    fn.close()
writeInverse("data7.out",data)


19. Processing experimental data:
20. Recall that each line in the data files you just generated has an iteration number and then a state value.
21. Assume that all files have the same length.
22. Write a Python program MaxSeparation.py that produces another file consisting of lines with iteration number and d_max, where d_max is the largest distance between all pairs of states taken from the different files at the same iteration number.
23. Store this series of numbers in a file.
24. What do you see? What is your interpretation of the d_max values as a function of iteration?¶

def maxDistance():
    mina = [float('INF') for i in range(50)]
    maxa = [float('-INF') for i in range(50)]
    d_max = [float('-INF') for i in range(50)]
    for i in range(10):
        f1 = open(str("data"+str(i)+".txt"),"r")
        for i in f1:
            i = i.split(" ")
            i[0] = int(i[0])
            i[1] = float(i[1][0:-1])

            if(mina[i[0]] > i[1]):
                mina[i[0]] = i[1]
   
            if(maxa[i[0]] < i[1]):
                maxa[i[0]] = i[1]
            dis = maxa[i[0]]-mina[i[0]]
        
            if(dis > d_max[i[0]]):
                d_max[i[0]] = dis 
    
    j=0
    fn = open("MaxDist.txt","w")
    for i in d_max:
        fn.write(str(j) + " " + str(i) + "\n")
        j+=1
    fn.close()
maxDistance()
