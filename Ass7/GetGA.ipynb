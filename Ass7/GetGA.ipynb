#1

#Write a program GetGA.py that uses the GettheAddresses.txt to grab a text file containing 
#the Gettysburg Address. Have the program write this to a file named ga.txt.
def otherFile():
    with open("GetTheAddress.txt") as f:
        with open("ga.txt", "w") as f1:
            for line in f:
                f1.write(line)

otherFile()


#2

#Write a program WordLineCounts.py that counts the number of lines and words in ga.txt, printing the resulting counts to the terminal.
def wordLineCounts():
    file = open("ga.txt","r")
    lineCount = 0
    
    content = file.read()
    coList = content.split("\n")
    
    print("Count statistics in file ga.txt")
    
    for i in coList:
        if i:
            lineCount += 1
    print("The number of lines is ### ", lineCount)   
    
    wordCount = 0
    words = content.split()
    for j in words:
        if j:
            wordCount += 1
    print("The number of words is ###  ",wordCount)        
    
    
wordLineCounts()

Count statistics in file ga.txt
The number of lines is ###  24
The number of words is ###   278


#3

#Write a program VowelCounts.py that reads in ga.txt and counts the number of each kind of vowel, printing the results for each vowel to the terminal. Annotate the output so that it is understandable.
def vowelCounts():
    # string of vowels
    vowels = 'aeiou'
    
    file = open("ga.txt","r")
    content = file.read()
    
    # make it suitable for caseless comparisions
    content = content.casefold()
    
    # make a dictionary with each vowel a key and value 0
    count = {}.fromkeys(vowels,0)
    
    # count the vowels
    for char in content:
        if char in count:
            count[char] += 1
            
    print(count)        


vowelCounts()


#4

#Write a program SortFile.py that reads in and alphabetically sorts the lines (not individual words) in ga.txt and outputs those lines to a new file ga_sorted.txt.
def sortAlpha():
    with open('ga.txt', 'r') as r:
        with open("ga_sorted.txt","w") as f1:
            for line in sorted(r):
                f1.write(line)
#                 print(line, end='')
    
    
sortAlpha()
    
    
  
  
#5

#Iterate a chaotic one-dimensional map: Write a program OneDMapIterate.py that iterates the function f(x) = 4.0 x ( 1 - x ). First, set the initial condition x = 0.3. Then apply f(x) repeatedly to each new x. Iterate for 100 steps, printing on each line the iteration number and the successive x values to file onedmap.txt.

f1 = open("onedmap.txt","w")
x = 0.3
for i in range(1,101):
    x = 4.0*(1-x)
    f1.write("Value of X at {} is {}".format(i,x))
    f1.write("\n")
f1.close()    
