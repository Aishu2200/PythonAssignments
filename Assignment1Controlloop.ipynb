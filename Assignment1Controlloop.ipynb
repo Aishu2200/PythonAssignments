{
 "cells": [
  {
   "cell_type": "markdown",
   "metadata": {},
   "source": [
    "# Assignment 1"
   ]
  },
  {
   "cell_type": "code",
   "execution_count": 1,
   "metadata": {},
   "outputs": [
    {
     "name": "stdout",
     "output_type": "stream",
     "text": [
      "1505\n",
      "1540\n",
      "1575\n",
      "1610\n",
      "1645\n",
      "1680\n",
      "1715\n",
      "1750\n",
      "1785\n",
      "1820\n",
      "1855\n",
      "1890\n",
      "1925\n",
      "1960\n",
      "1995\n",
      "2030\n",
      "2065\n",
      "2100\n",
      "2135\n",
      "2170\n",
      "2205\n",
      "2240\n",
      "2275\n",
      "2310\n",
      "2345\n",
      "2380\n",
      "2415\n",
      "2450\n",
      "2485\n",
      "2520\n",
      "2555\n",
      "2590\n",
      "2625\n",
      "2660\n",
      "2695\n"
     ]
    }
   ],
   "source": [
    "for x in range(1500, 2701):\n",
    "    if(x % 7 == 0) and (x % 5 == 0):\n",
    "        print(str(x))\n",
    "    \n"
   ]
  },
  {
   "cell_type": "markdown",
   "metadata": {},
   "source": [
    "#### 2"
   ]
  },
  {
   "cell_type": "code",
   "execution_count": 2,
   "metadata": {},
   "outputs": [
    {
     "name": "stdout",
     "output_type": "stream",
     "text": [
      "Input the temperature in Fahrenheit or Celsius   =>   45F\n",
      "The temperature in Celsius is 7 degrees\n"
     ]
    }
   ],
   "source": [
    "temp = input(\"Input the temperature in Fahrenheit or Celsius   =>   \")\n",
    "\n",
    "degree = int(temp[:-1])\n",
    "ic = temp[-1]\n",
    "#print(degree)\n",
    "#print(ic)\n",
    "if ic.upper() == \"C\":\n",
    "    result = int(round((9 * degree) / 5 + 32))\n",
    "    oc = \"Fahrenheit\"\n",
    "elif ic.upper() == \"F\":\n",
    "    result = int(round((degree - 32) * 5 / 9))\n",
    "    oc = \"Celsius\"\n",
    "else:\n",
    "                 print(\"Input proper convention.\")\n",
    "                 quit()\n",
    "print(\"The temperature in\",oc, \"is\", result, \"degrees\")                 "
   ]
  },
  {
   "cell_type": "markdown",
   "metadata": {},
   "source": [
    "#### 3"
   ]
  },
  {
   "cell_type": "code",
   "execution_count": 7,
   "metadata": {},
   "outputs": [
    {
     "name": "stdout",
     "output_type": "stream",
     "text": [
      "Guess a number between 1 to 10 : 6\n",
      "Nope...try again\n",
      "Guess a number between 1 to 10 : 3\n",
      "Nope...try again\n",
      "Guess a number between 1 to 10 : 8\n",
      "Nope...try again\n",
      "Guess a number between 1 to 10 : 5\n",
      "Win\n"
     ]
    }
   ],
   "source": [
    "import random\n",
    "randomNum = random.randint(1,10)\n",
    "gussNum = 0;\n",
    "while randomNum != gussNum:\n",
    "    gussNum = int(input('Guess a number between 1 to 10 : '))\n",
    "    if randomNum != gussNum:\n",
    "        print(\"Nope...try again\")\n",
    "print(\"Win\")    "
   ]
  },
  {
   "cell_type": "markdown",
   "metadata": {},
   "source": [
    "#### 4"
   ]
  },
  {
   "cell_type": "code",
   "execution_count": 14,
   "metadata": {},
   "outputs": [
    {
     "name": "stdout",
     "output_type": "stream",
     "text": [
      "\n",
      "* \n",
      "* * \n",
      "* * * \n",
      "* * * * \n",
      "* * * * * \n",
      "* * * * * * \n",
      "* * * * * \n",
      "* * * * \n",
      "* * * \n",
      "* * \n",
      "* \n"
     ]
    }
   ],
   "source": [
    "n = 6\n",
    "for i in range(n):        #for 1st 6 line\n",
    "    for j in range(i):\n",
    "        print('* ', end=\"\")\n",
    "    print('')\n",
    "for j in range(n, 0, -1): # f0r last n-1\n",
    "    for k in range(j):\n",
    "        print('* ',end=\"\")\n",
    "    print('')    "
   ]
  },
  {
   "cell_type": "markdown",
   "metadata": {},
   "source": [
    "#### 5"
   ]
  },
  {
   "cell_type": "code",
   "execution_count": 23,
   "metadata": {},
   "outputs": [
    {
     "name": "stdout",
     "output_type": "stream",
     "text": [
      "ytiruceS evisneffO\n"
     ]
    }
   ],
   "source": [
    "def reverseWord(word):\n",
    "    #print(word)\n",
    "    str = \"\"\n",
    "    for i in word:\n",
    "        str = i + str\n",
    "       # print(str)\n",
    "    return str\n",
    "\n",
    "word = \"Offensive Security\"\n",
    "print(reverseWord(word))"
   ]
  },
  {
   "cell_type": "markdown",
   "metadata": {},
   "source": [
    "#### 6"
   ]
  },
  {
   "cell_type": "code",
   "execution_count": 25,
   "metadata": {},
   "outputs": [
    {
     "name": "stdout",
     "output_type": "stream",
     "text": [
      "even Count :  4\n",
      "odd Count :  5\n"
     ]
    }
   ],
   "source": [
    "num = [1,2,3,4,5,6,7,8,9]\n",
    "even = 0\n",
    "odd = 0\n",
    "\n",
    "for x in num:\n",
    "    if(x % 2 == 0):\n",
    "        even = even+1\n",
    "    else:    \n",
    "        odd = odd + 1\n",
    "    \n",
    "print(\"even Count : \", even)\n",
    "print(\"odd Count : \", odd)"
   ]
  },
  {
   "cell_type": "markdown",
   "metadata": {},
   "source": [
    "#### 7"
   ]
  },
  {
   "cell_type": "code",
   "execution_count": 26,
   "metadata": {},
   "outputs": [
    {
     "name": "stdout",
     "output_type": "stream",
     "text": [
      "data =>  1452   type =>   <class 'int'>\n",
      "data =>  11.23   type =>   <class 'float'>\n",
      "data =>  (1+2j)   type =>   <class 'complex'>\n",
      "data =>  True   type =>   <class 'bool'>\n",
      "data =>  Moderncollege   type =>   <class 'str'>\n",
      "data =>  (0, -1)   type =>   <class 'tuple'>\n",
      "data =>  [5, 12]   type =>   <class 'list'>\n",
      "data =>  {'class': 'V', 'section': 'A'}   type =>   <class 'dict'>\n"
     ]
    }
   ],
   "source": [
    "datalist = [1452,11.23,1+2j,True,'Moderncollege',(0,-1),[5,12],{\"class\":\"V\",\"section\":'A'}]\n",
    "\n",
    "for x in datalist:\n",
    "    print(\"data => \",x,\"  type =>  \",type(x))"
   ]
  },
  {
   "cell_type": "markdown",
   "metadata": {},
   "source": [
    "#### 8"
   ]
  },
  {
   "cell_type": "code",
   "execution_count": 31,
   "metadata": {},
   "outputs": [
    {
     "name": "stdout",
     "output_type": "stream",
     "text": [
      "0   1   2   4   5   "
     ]
    }
   ],
   "source": [
    "for x in range(6):\n",
    "    if(x == 3 or x == 6):\n",
    "        continue\n",
    "    print(x,\"  \" ,end=\"\")    "
   ]
  },
  {
   "cell_type": "markdown",
   "metadata": {},
   "source": [
    "#### 9"
   ]
  },
  {
   "cell_type": "code",
   "execution_count": 33,
   "metadata": {},
   "outputs": [
    {
     "name": "stdout",
     "output_type": "stream",
     "text": [
      "0\n",
      "1\n",
      "1\n",
      "2\n",
      "3\n",
      "5\n",
      "8\n",
      "13\n",
      "21\n",
      "34\n"
     ]
    }
   ],
   "source": [
    "a, b = 0, 1\n",
    "while a < 51:\n",
    "    print(a)\n",
    "    a, b = b, a+b"
   ]
  },
  {
   "cell_type": "markdown",
   "metadata": {},
   "source": [
    "#### 10"
   ]
  },
  {
   "cell_type": "code",
   "execution_count": 36,
   "metadata": {},
   "outputs": [
    {
     "name": "stdout",
     "output_type": "stream",
     "text": [
      "Fizz\n",
      "Buzz\n",
      "Fizz\n",
      "Fizz\n",
      "Buzz\n",
      "Fizz\n",
      "FizzBuzz\n",
      "Fizz\n",
      "Buzz\n",
      "Fizz\n",
      "Fizz\n",
      "Buzz\n",
      "Fizz\n",
      "FizzBuzz\n",
      "Fizz\n",
      "Buzz\n",
      "Fizz\n",
      "Fizz\n",
      "Buzz\n",
      "Fizz\n",
      "FizzBuzz\n",
      "Fizz\n",
      "Buzz\n"
     ]
    }
   ],
   "source": [
    "for x in range(1,51):\n",
    "    if(x % 3 == 0 and x % 5 == 0):\n",
    "        print(\"FizzBuzz\")\n",
    "        continue\n",
    "    elif(x % 3 == 0):\n",
    "        print(\"Fizz\")\n",
    "        continue\n",
    "    elif(x % 5 == 0):\n",
    "        print(\"Buzz\")\n",
    "        continue\n",
    "    "
   ]
  },
  {
   "cell_type": "markdown",
   "metadata": {},
   "source": [
    "#### 11"
   ]
  },
  {
   "cell_type": "code",
   "execution_count": 40,
   "metadata": {},
   "outputs": [
    {
     "name": "stdout",
     "output_type": "stream",
     "text": [
      "Input number of rows: 3\n",
      "Input number of columns: 4\n",
      "[[0, 0, 0, 0], [0, 1, 2, 3], [0, 2, 4, 6]]\n"
     ]
    }
   ],
   "source": [
    "numOfRow = int(input(\"Input number of rows: \"))\n",
    "numOfCol = int(input(\"Input number of columns: \"))\n",
    "multiList = [[0 for col in range(numOfCol)] for row in range(numOfRow)]\n",
    "\n",
    "for row in range(numOfRow):\n",
    "    for col in range(numOfCol):\n",
    "        multiList[row][col]= row*col\n",
    "\n",
    "print(multiList)"
   ]
  },
  {
   "cell_type": "markdown",
   "metadata": {},
   "source": [
    "#### 12"
   ]
  },
  {
   "cell_type": "code",
   "execution_count": 44,
   "metadata": {},
   "outputs": [
    {
     "name": "stdout",
     "output_type": "stream",
     "text": [
      "KALIFORUM\n",
      "NETHUNTER\n",
      "\n",
      "kaliforum\n",
      "nethunter\n"
     ]
    }
   ],
   "source": [
    "lines = []\n",
    "while True:\n",
    "    l = input()\n",
    "    if l:\n",
    "        lines.append(l.lower())\n",
    "    else:\n",
    "        break;\n",
    "\n",
    "for l in lines:\n",
    "    print(l)"
   ]
  },
  {
   "cell_type": "markdown",
   "metadata": {},
   "source": [
    "#### 14"
   ]
  },
  {
   "cell_type": "code",
   "execution_count": 47,
   "metadata": {},
   "outputs": [
    {
     "name": "stdout",
     "output_type": "stream",
     "text": [
      "Enter the string  :  hello 1234\n",
      "Letter :  5\n",
      "Digits :  4\n"
     ]
    }
   ],
   "source": [
    "str = input(\"Enter the string  :  \")\n",
    "digit = 0\n",
    "letter = 0\n",
    "for cal in str:\n",
    "    if cal.isdigit():\n",
    "        digit=digit+1\n",
    "    elif cal.isalpha():\n",
    "        letter = letter+1\n",
    "    else:\n",
    "        pass\n",
    "print(\"Letter : \", letter)\n",
    "print(\"Digits : \", digit)"
   ]
  },
  {
   "cell_type": "markdown",
   "metadata": {},
   "source": [
    "#### 15"
   ]
  },
  {
   "cell_type": "code",
   "execution_count": 51,
   "metadata": {},
   "outputs": [
    {
     "name": "stdout",
     "output_type": "stream",
     "text": [
      "Enter your password  :  Qwer@#123\n",
      "Valid Password\n"
     ]
    }
   ],
   "source": [
    "import re\n",
    "password = input(\"Enter your password  :  \")\n",
    "\n",
    "f = 0\n",
    "while True:\n",
    "    if not re.search(\"[a-z]\",password):\n",
    "        f = -1\n",
    "        break\n",
    "    elif not re.search(\"[A-Z]\",password):\n",
    "        f = -1\n",
    "        break\n",
    "    elif not re.search(\"[0-9]\",password):\n",
    "        f = -1\n",
    "        break\n",
    "    elif not re.search(\"[$#@]\",password):\n",
    "        f = -1\n",
    "        break\n",
    "    elif len(password) < 6 or len(password) > 12:\n",
    "        f = -1\n",
    "        break\n",
    "    else:\n",
    "        f = 0\n",
    "        print(\"Valid Password\")\n",
    "        break\n",
    "        \n",
    "if f == -1:\n",
    "    print(\"Password is not valid\")"
   ]
  },
  {
   "cell_type": "markdown",
   "metadata": {},
   "source": [
    "#### 16\n"
   ]
  },
  {
   "cell_type": "code",
   "execution_count": 2,
   "metadata": {},
   "outputs": [
    {
     "name": "stdout",
     "output_type": "stream",
     "text": [
      "200,202,204,206,208,220,222,224,226,228,240,242,244,246,248,260,262,264,266,268,280,282,284,286,288,400\n"
     ]
    }
   ],
   "source": [
    "global str\n",
    "items = []\n",
    "for x in range(100, 401):\n",
    "    s = str(x)\n",
    "    if(int(s[0]) % 2 == 0) and (int(s[1]) % 2 == 0) and (int(s[2]) % 2 == 0):\n",
    "        items.append(s)\n",
    "print( \",\".join(items))       \n",
    "    "
   ]
  },
  {
   "cell_type": "markdown",
   "metadata": {},
   "source": [
    "#### 17"
   ]
  },
  {
   "cell_type": "code",
   "execution_count": 56,
   "metadata": {},
   "outputs": [
    {
     "name": "stdout",
     "output_type": "stream",
     "text": [
      "  ***  \n",
      " *   * \n",
      " *   * \n",
      " ***** \n",
      " *   * \n",
      " *   * \n",
      " *   * \n",
      "\n"
     ]
    }
   ],
   "source": [
    "resultString = \"\";\n",
    "for row in range(0,7):\n",
    "    for column in range(0,7):\n",
    "        if(((column == 1 or column == 5) and row != 0) or ((row == 0 or row == 3) and (column > 1 and column < 5))):\n",
    "            resultString = resultString+\"*\"\n",
    "        else:\n",
    "            resultString = resultString+\" \"\n",
    "    resultString = resultString+\"\\n\"\n",
    "print(resultString);    \n",
    "            "
   ]
  },
  {
   "cell_type": "markdown",
   "metadata": {},
   "source": [
    "#### 18"
   ]
  },
  {
   "cell_type": "code",
   "execution_count": 60,
   "metadata": {},
   "outputs": [
    {
     "name": "stdout",
     "output_type": "stream",
     "text": [
      " ****  \n",
      " *   * \n",
      " *   * \n",
      " *   * \n",
      " *   * \n",
      " *   * \n",
      " ****  \n",
      "\n"
     ]
    }
   ],
   "source": [
    "resultString = \"\";\n",
    "for row in range(0,7):\n",
    "    for column in range(0,7):\n",
    "        if (column == 1 or ((row == 0 or row == 6) and (column > 1 and column < 5)) or (column == 5 and row != 0 and row != 6)):  \n",
    "            resultString = resultString+\"*\"\n",
    "        else:\n",
    "            resultString = resultString+\" \"\n",
    "    resultString = resultString+\"\\n\"\n",
    "print(resultString);    \n",
    "            "
   ]
  },
  {
   "cell_type": "markdown",
   "metadata": {},
   "source": [
    "#### 19"
   ]
  },
  {
   "cell_type": "code",
   "execution_count": 65,
   "metadata": {},
   "outputs": [
    {
     "name": "stdout",
     "output_type": "stream",
     "text": [
      " ***** \n",
      " *     \n",
      " *     \n",
      " ****  \n",
      " *     \n",
      " *     \n",
      " ***** \n",
      "\n"
     ]
    }
   ],
   "source": [
    "resultString = \"\";\n",
    "for row in range(0,7):\n",
    "    for column in range(0,7):\n",
    "        if (column == 1 or ((row == 0 or row == 6) and (column > 1 and column < 6)) or (row == 3 and column > 1 and column < 5)):  \n",
    "            resultString = resultString+\"*\"\n",
    "        else:\n",
    "            resultString = resultString+\" \"\n",
    "    resultString = resultString+\"\\n\"\n",
    "print(resultString);   \n",
    "            "
   ]
  },
  {
   "cell_type": "markdown",
   "metadata": {},
   "source": [
    "#### 20"
   ]
  },
  {
   "cell_type": "code",
   "execution_count": 68,
   "metadata": {},
   "outputs": [
    {
     "name": "stdout",
     "output_type": "stream",
     "text": [
      "  ***  \n",
      " *   * \n",
      " *     \n",
      " * *** \n",
      " *   * \n",
      " *   * \n",
      "  ***  \n",
      "\n"
     ]
    }
   ],
   "source": [
    "resultString = \"\";\n",
    "for row in range(0,7):\n",
    "    for column in range(0,7):\n",
    "        if ((column == 1 and row != 0 and row != 6) or ((row == 0 or row == 6) and column > 1 and column < 5) or (row == 3 and column > 2 and column < 6) or (column == 5 and row != 0 and row != 2 and row != 6)): \n",
    "            resultString = resultString+\"*\"\n",
    "        else:\n",
    "            resultString = resultString+\" \"\n",
    "    resultString = resultString+\"\\n\"\n",
    "print(resultString);   \n",
    "            "
   ]
  },
  {
   "cell_type": "markdown",
   "metadata": {},
   "source": [
    "#### 21"
   ]
  },
  {
   "cell_type": "code",
   "execution_count": 69,
   "metadata": {},
   "outputs": [
    {
     "name": "stdout",
     "output_type": "stream",
     "text": [
      " *     \n",
      " *     \n",
      " *     \n",
      " *     \n",
      " *     \n",
      " *     \n",
      " ***** \n",
      "\n"
     ]
    }
   ],
   "source": [
    "resultString = \"\";\n",
    "for row in range(0,7):\n",
    "    for column in range(0,7):\n",
    "        if (column == 1 or (row == 6 and column != 0 and column < 6)):\n",
    "            resultString = resultString+\"*\"\n",
    "        else:\n",
    "            resultString = resultString+\" \"\n",
    "    resultString = resultString+\"\\n\"\n",
    "print(resultString);   \n",
    "            "
   ]
  },
  {
   "cell_type": "markdown",
   "metadata": {},
   "source": [
    "#### 22"
   ]
  },
  {
   "cell_type": "code",
   "execution_count": 71,
   "metadata": {},
   "outputs": [
    {
     "name": "stdout",
     "output_type": "stream",
     "text": [
      " *   * \n",
      " *   * \n",
      " ** ** \n",
      " * * * \n",
      " *   * \n",
      " *   * \n",
      " *   * \n",
      "\n"
     ]
    }
   ],
   "source": [
    "resultString = \"\";\n",
    "for row in range(0,7):\n",
    "    for column in range(0,7):\n",
    "        if (column == 1 or column == 5 or (row == 2 and (column == 2 or column == 4)) or (row == 3 and column == 3)): \n",
    "            resultString = resultString+\"*\"\n",
    "        else:\n",
    "            resultString = resultString+\" \"\n",
    "    resultString = resultString+\"\\n\"\n",
    "print(resultString);   \n",
    "            "
   ]
  },
  {
   "cell_type": "markdown",
   "metadata": {},
   "source": [
    "#### 23"
   ]
  },
  {
   "cell_type": "code",
   "execution_count": 72,
   "metadata": {},
   "outputs": [
    {
     "name": "stdout",
     "output_type": "stream",
     "text": [
      "  ***  \n",
      " *   * \n",
      " *   * \n",
      " *   * \n",
      " *   * \n",
      " *   * \n",
      "  ***  \n",
      "\n"
     ]
    }
   ],
   "source": [
    "resultString = \"\";\n",
    "for row in range(0,7):\n",
    "    for column in range(0,7):\n",
    "        if (((column == 1 or column == 5) and row != 0 and row != 6) or ((row == 0 or row == 6) and column > 1 and column < 5)): \n",
    "            resultString = resultString+\"*\"\n",
    "        else:\n",
    "            resultString = resultString+\" \"\n",
    "    resultString = resultString+\"\\n\"\n",
    "print(resultString);   \n",
    "            "
   ]
  },
  {
   "cell_type": "markdown",
   "metadata": {},
   "source": [
    "#### 24"
   ]
  },
  {
   "cell_type": "code",
   "execution_count": 73,
   "metadata": {},
   "outputs": [
    {
     "name": "stdout",
     "output_type": "stream",
     "text": [
      " ****  \n",
      " *   * \n",
      " *   * \n",
      " ****  \n",
      " *     \n",
      " *     \n",
      " *     \n",
      "\n"
     ]
    }
   ],
   "source": [
    "resultString = \"\";\n",
    "for row in range(0,7):\n",
    "    for column in range(0,7):\n",
    "        if (column == 1 or ((row == 0 or row == 3) and column > 0 and column < 5) or ((column == 5 or column == 1) and (row == 1 or row == 2))):\n",
    "            resultString = resultString+\"*\"\n",
    "        else:\n",
    "            resultString = resultString+\" \"\n",
    "    resultString = resultString+\"\\n\"\n",
    "print(resultString);"
   ]
  },
  {
   "cell_type": "markdown",
   "metadata": {},
   "source": [
    "#### 25"
   ]
  },
  {
   "cell_type": "code",
   "execution_count": 74,
   "metadata": {},
   "outputs": [
    {
     "name": "stdout",
     "output_type": "stream",
     "text": [
      " ****  \n",
      " *   * \n",
      " *   * \n",
      " ****  \n",
      " * *   \n",
      " *  *  \n",
      " *   * \n",
      "\n"
     ]
    }
   ],
   "source": [
    "resultString = \"\";\n",
    "for row in range(0,7):\n",
    "    for column in range(0,7):\n",
    "        if (column == 1 or ((row == 0 or row == 3) and column > 1 and column < 5) or (column == 5 and row != 0 and row < 3) or (column == row - 1 and row > 2)): \n",
    "            resultString = resultString+\"*\"\n",
    "        else:\n",
    "            resultString = resultString+\" \"\n",
    "    resultString = resultString+\"\\n\"\n",
    "print(resultString);"
   ]
  },
  {
   "cell_type": "markdown",
   "metadata": {},
   "source": [
    "#### 26"
   ]
  },
  {
   "cell_type": "code",
   "execution_count": 75,
   "metadata": {},
   "outputs": [
    {
     "name": "stdout",
     "output_type": "stream",
     "text": [
      "  **** \n",
      " *     \n",
      " *     \n",
      "  ***  \n",
      "     * \n",
      "     * \n",
      " ****  \n",
      "\n"
     ]
    }
   ],
   "source": [
    "resultString = \"\";\n",
    "for row in range(0,7):\n",
    "    for column in range(0,7):\n",
    "        if (((row == 0 or row == 3 or row == 6) and column > 1 and column < 5) or (column == 1 and (row == 1 or row == 2 or row == 6)) or (column == 5 and (row == 0 or row == 4 or row == 5))): \n",
    "            resultString = resultString+\"*\"\n",
    "        else:\n",
    "            resultString = resultString+\" \"\n",
    "    resultString = resultString+\"\\n\"\n",
    "print(resultString);"
   ]
  },
  {
   "cell_type": "code",
   "execution_count": 78,
   "metadata": {},
   "outputs": [
    {
     "name": "stdout",
     "output_type": "stream",
     "text": [
      "ooooooooooooooooo\n",
      "ooooooooooooooooo\n",
      "ooooooooooooooooo\n",
      "oooo\n",
      "oooo\n",
      "oooo\n",
      "ooooooooooooooooo\n",
      "ooooooooooooooooo\n",
      "ooooooooooooooooo\n",
      "             oooo\n",
      "             oooo\n",
      "             oooo\n",
      "ooooooooooooooooo\n",
      "ooooooooooooooooo\n",
      "ooooooooooooooooo\n",
      "\n"
     ]
    }
   ],
   "source": [
    "row=15    \n",
    "col=18   \n",
    "resultString = \"\"    \n",
    "for i in range(1,row+1):    \n",
    "    if((i <= 3)or(i >= 7 and i <= 9)or(i >= 13 and i <= 15)):    \n",
    "        for j in range(1,col):    \n",
    "            resultString = resultString + \"o\"    \n",
    "        resultString = resultString + \"\\n\"    \n",
    "    elif(i >= 4 and i <= 6):    \n",
    "        for j in range(1,5):    \n",
    "            resultString = resultString + \"o\"    \n",
    "        resultString = resultString + \"\\n\"    \n",
    "    else:    \n",
    "        for j in range(1,14):    \n",
    "            resultString = resultString + \" \"    \n",
    "        for j in range(1,5):    \n",
    "            resultString = resultString + \"o\"    \n",
    "        resultString = resultString + \"\\n\"    \n",
    "print(resultString);"
   ]
  },
  {
   "cell_type": "markdown",
   "metadata": {},
   "source": [
    "#### 27"
   ]
  },
  {
   "cell_type": "code",
   "execution_count": 79,
   "metadata": {},
   "outputs": [
    {
     "name": "stdout",
     "output_type": "stream",
     "text": [
      " ***** \n",
      "   *   \n",
      "   *   \n",
      "   *   \n",
      "   *   \n",
      "   *   \n",
      "   *   \n",
      "\n"
     ]
    }
   ],
   "source": [
    "resultString = \"\";\n",
    "for row in range(0,7):\n",
    "    for column in range(0,7):\n",
    "        if (column == 3 or (row == 0 and column > 0 and column <6)): \n",
    "            resultString = resultString+\"*\"\n",
    "        else:\n",
    "            resultString = resultString+\" \"\n",
    "    resultString = resultString+\"\\n\"\n",
    "print(resultString);"
   ]
  },
  {
   "cell_type": "markdown",
   "metadata": {},
   "source": [
    "#### 28"
   ]
  },
  {
   "cell_type": "code",
   "execution_count": 80,
   "metadata": {},
   "outputs": [
    {
     "name": "stdout",
     "output_type": "stream",
     "text": [
      " *   * \n",
      " *   * \n",
      " *   * \n",
      " *   * \n",
      " *   * \n",
      " *   * \n",
      "  ***  \n",
      "\n"
     ]
    }
   ],
   "source": [
    "resultString = \"\";\n",
    "for row in range(0,7):\n",
    "    for column in range(0,7):\n",
    "        if (((column == 1 or column == 5) and row != 6) or (row == 6 and column > 1 and column < 5)):\n",
    "            resultString = resultString+\"*\"\n",
    "        else:\n",
    "            resultString = resultString+\" \"\n",
    "    resultString = resultString+\"\\n\"\n",
    "print(resultString);"
   ]
  },
  {
   "cell_type": "markdown",
   "metadata": {},
   "source": [
    "#### 29"
   ]
  },
  {
   "cell_type": "code",
   "execution_count": 81,
   "metadata": {},
   "outputs": [
    {
     "name": "stdout",
     "output_type": "stream",
     "text": [
      " *   * \n",
      " *   * \n",
      "  * *  \n",
      "   *   \n",
      "  * *  \n",
      " *   * \n",
      " *   * \n",
      "\n"
     ]
    }
   ],
   "source": [
    "resultString = \"\";\n",
    "for row in range(0,7):\n",
    "    for column in range(0,7):\n",
    "        if (((column == 1 or column == 5) and (row > 4 or row < 2)) or row == column and column > 0 and column < 6 or (column == 2 and row == 4) or (column == 4 and row == 2)):\n",
    "            resultString = resultString+\"*\"\n",
    "        else:\n",
    "            resultString = resultString+\" \"\n",
    "    resultString = resultString+\"\\n\"\n",
    "print(resultString);"
   ]
  },
  {
   "cell_type": "markdown",
   "metadata": {},
   "source": [
    "#### 30"
   ]
  },
  {
   "cell_type": "code",
   "execution_count": 82,
   "metadata": {},
   "outputs": [
    {
     "name": "stdout",
     "output_type": "stream",
     "text": [
      "*******\n",
      "     * \n",
      "    *  \n",
      "   *   \n",
      "  *    \n",
      " *     \n",
      "*******\n",
      "\n"
     ]
    }
   ],
   "source": [
    "resultString = \"\";\n",
    "for row in range(0,7):\n",
    "    for column in range(0,7):\n",
    "        if (((row == 0 or row == 6) and column >= 0 and column <= 6) or row+column==6):\n",
    "            resultString = resultString+\"*\"\n",
    "        else:\n",
    "            resultString = resultString+\" \"\n",
    "    resultString = resultString+\"\\n\"\n",
    "print(resultString);"
   ]
  },
  {
   "cell_type": "markdown",
   "metadata": {},
   "source": [
    "#### 31"
   ]
  },
  {
   "cell_type": "code",
   "execution_count": 85,
   "metadata": {},
   "outputs": [
    {
     "name": "stdout",
     "output_type": "stream",
     "text": [
      "ENter dog's age in human years:  2\n",
      "The dog's age in dog's year is  21.0\n"
     ]
    }
   ],
   "source": [
    "humanAge = int(input(\"ENter dog's age in human years:  \"))\n",
    "if humanAge < 0:\n",
    "    print(\"Please enter positive age\")\n",
    "    exit()\n",
    "elif humanAge <= 2:\n",
    "    dogAge = humanAge * 10.5\n",
    "else:\n",
    "    dogAge = 21 + (humanAge -2)*4\n",
    "print(\"The dog's age in dog's year is \", dogAge)    \n",
    "    "
   ]
  },
  {
   "cell_type": "markdown",
   "metadata": {},
   "source": [
    "#### 32"
   ]
  },
  {
   "cell_type": "code",
   "execution_count": 87,
   "metadata": {},
   "outputs": [
    {
     "name": "stdout",
     "output_type": "stream",
     "text": [
      "Input lettera\n",
      "a  is vowel\n"
     ]
    }
   ],
   "source": [
    "letter = input(\"Input letter\")\n",
    "\n",
    "if letter in ('a','e','i','o','u'):\n",
    "    print(\"%s  is vowel\" %letter)\n",
    "else:\n",
    "    print(\" %s  is a consonant\" % letter)"
   ]
  },
  {
   "cell_type": "markdown",
   "metadata": {},
   "source": [
    "#### 33"
   ]
  },
  {
   "cell_type": "code",
   "execution_count": 89,
   "metadata": {},
   "outputs": [
    {
     "name": "stdout",
     "output_type": "stream",
     "text": [
      "List of months: January, February, March, April, May, June, July, August, September, October, November, December\n",
      "Input the name of Month: December\n",
      "No of days: 31 day\n"
     ]
    }
   ],
   "source": [
    "print(\"List of months: January, February, March, April, May, June, July, August, September, October, November, December\")\n",
    "monthName = input(\"Input the name of Month: \")\n",
    "\n",
    "if monthName == \"February\":\n",
    "    print(\"No. of days : 28/29 days\")\n",
    "elif monthName in (\"April\",\"June\",\"September\",\"November\"):\n",
    "    print(\"No. of days : 30 days\")\n",
    "elif monthName in (\"January\", \"March\", \"May\", \"July\", \"August\", \"October\", \"December\"):\n",
    "    print(\"No of days: 31 day\")\n",
    "else:\n",
    "    print(\"OOPS!!..........Incorrect\")\n",
    "    \n",
    "    "
   ]
  },
  {
   "cell_type": "markdown",
   "metadata": {},
   "source": [
    "#### 34"
   ]
  },
  {
   "cell_type": "code",
   "execution_count": 91,
   "metadata": {},
   "outputs": [
    {
     "name": "stdout",
     "output_type": "stream",
     "text": [
      "20\n",
      "20\n",
      "23\n"
     ]
    }
   ],
   "source": [
    "def sum(x, y):\n",
    "    sum = x + y\n",
    "    if sum in range(15, 20):\n",
    "        return 20\n",
    "    else:\n",
    "        return sum\n",
    "\n",
    "print(sum(13, 6))\n",
    "print(sum(15, 2))\n",
    "print(sum(11, 12))"
   ]
  },
  {
   "cell_type": "markdown",
   "metadata": {},
   "source": [
    "#### 35"
   ]
  },
  {
   "cell_type": "code",
   "execution_count": 93,
   "metadata": {},
   "outputs": [
    {
     "name": "stdout",
     "output_type": "stream",
     "text": [
      "Input a string: ssssssssss\n",
      "The string is not an integer.\n"
     ]
    }
   ],
   "source": [
    "text = input(\"Input a string: \")\n",
    "text = text.strip()\n",
    "if len(text) < 1:\n",
    "    print(\"Input a valid text\")\n",
    "else:\n",
    "    if all(text[i] in \"0123456789\" for i in range(len(text))):\n",
    "        print(\"The string is an integer.\")\n",
    "    elif (text[0] in \"+-\") and \\\n",
    "         all(text[i] in \"0123456789\" for i in range(1,len(text))):\n",
    "         print(\"The string is an integer.\")\n",
    "    else:\n",
    "        print(\"The string is not an integer.\") "
   ]
  },
  {
   "cell_type": "markdown",
   "metadata": {},
   "source": [
    "#### 36"
   ]
  },
  {
   "cell_type": "code",
   "execution_count": 94,
   "metadata": {},
   "outputs": [
    {
     "name": "stdout",
     "output_type": "stream",
     "text": [
      "Enter the lengths of triandle: \n",
      "x : 1\n",
      "y : 1\n",
      "z : 1\n",
      "Equilateral triangle\n"
     ]
    }
   ],
   "source": [
    "print(\"Enter the lengths of triandle: \")\n",
    "x = int(input(\"x : \"))\n",
    "y = int(input(\"y : \"))\n",
    "z = int(input(\"z : \"))\n",
    "\n",
    "if x == y == z:\n",
    "    print(\"Equilateral triangle\")\n",
    "elif x == y or y == z or z == x:\n",
    "    print(\"isosceles traingle\")\n",
    "else:\n",
    "    print(\"Scalene traingle\")"
   ]
  },
  {
   "cell_type": "markdown",
   "metadata": {},
   "source": [
    "#### 37"
   ]
  },
  {
   "cell_type": "code",
   "execution_count": 97,
   "metadata": {},
   "outputs": [
    {
     "name": "stdout",
     "output_type": "stream",
     "text": [
      "Input the month (e.g. January, February etc.): July\n",
      "Input the day: 2\n",
      "Season is summer\n"
     ]
    }
   ],
   "source": [
    "month = input(\"Input the month (e.g. January, February etc.): \")\n",
    "day = int(input(\"Input the day: \"))\n",
    "\n",
    "if month in ('January', 'February', 'March'):\n",
    "    season = 'winter'\n",
    "elif month in ('April', 'May', 'June'):\n",
    "    season = 'spring'\n",
    "elif month in ('July', 'August', 'September'):\n",
    "    season = 'summer'\n",
    "else:  \n",
    "    season = 'autumn'\n",
    "if (month == 'March') and (day > 19):\n",
    "    season = 'spring'\n",
    "elif (month == 'June') and (day > 20):\n",
    "    season = 'summer'\n",
    "elif (month == 'September') and (day > 21):    \n",
    "    season = 'autumn'\n",
    "elif (month == 'December') and (day > 20):    \n",
    "    season = 'winter'\n",
    "print(\"Season is\",season)    "
   ]
  },
  {
   "cell_type": "markdown",
   "metadata": {},
   "source": [
    "#### 38"
   ]
  },
  {
   "cell_type": "code",
   "execution_count": 98,
   "metadata": {},
   "outputs": [
    {
     "name": "stdout",
     "output_type": "stream",
     "text": [
      "Input birthday: 7\n",
      "Input month of birth (e.g. march, july etc): september\n",
      "Your Astrological sign is : Virgo\n"
     ]
    }
   ],
   "source": [
    "day = int(input(\"Input birthday: \"))\n",
    "month = input(\"Input month of birth (e.g. march, july etc): \")\n",
    "if month == 'december':\n",
    "    astro_sign = 'Sagittarius' if (day < 22) else 'capricorn'\n",
    "elif month == 'january':\n",
    "    astro_sign = 'Capricorn' if (day < 20) else 'aquarius'\n",
    "elif month == 'february':   \n",
    "    astro_sign = 'Aquarius' if (day < 19) else 'pisces'\n",
    "elif month == 'march':\n",
    "    astro_sign = 'Pisces' if (day < 21) else 'aries'\n",
    "elif month == 'april':\n",
    "    astro_sign = 'Aries' if (day < 20) else 'taurus'\n",
    "elif month == 'may':\n",
    "    astro_sign = 'Taurus' if (day < 21) else 'gemini'\n",
    "elif month == 'june':\n",
    "    astro_sign = 'Gemini' if (day < 21) else 'cancer'\n",
    "elif month == 'july':\n",
    "    astro_sign = 'Cancer' if (day < 23) else 'leo'\n",
    "elif month == 'august':  \n",
    "    astro_sign = 'Leo' if (day < 23) else 'virgo'\n",
    "elif month == 'september':    \n",
    "    astro_sign = 'Virgo' if (day < 23) else 'libra'\n",
    "elif month == 'october':   \n",
    "    astro_sign = 'Libra' if (day < 23) else 'scorpio'\n",
    "elif month == 'november':   \n",
    "    astro_sign = 'scorpio' if (day < 22) else 'sagittarius'\n",
    "print(\"Your Astrological sign is :\",astro_sign)"
   ]
  },
  {
   "cell_type": "markdown",
   "metadata": {},
   "source": [
    "#### 40"
   ]
  },
  {
   "cell_type": "code",
   "execution_count": 100,
   "metadata": {},
   "outputs": [
    {
     "name": "stdout",
     "output_type": "stream",
     "text": [
      "Input first number: 1\n",
      "Input second number: 1\n",
      "Input third number: 1\n",
      "The median is 1.0\n"
     ]
    }
   ],
   "source": [
    "num1 = float(input(\"Input first number: \"))\n",
    "num2 = float(input(\"Input second number: \"))\n",
    "num3 = float(input(\"Input third number: \"))\n",
    "if num1 > num2:\n",
    "    if num1 < num3:\n",
    "        median = num1\n",
    "    elif num2 > num3:\n",
    "        median = num2\n",
    "    else:\n",
    "        median = num3\n",
    "else:\n",
    "    if num1 > num3:\n",
    "        median = num1\n",
    "    elif num1 < num3:\n",
    "        median = num2\n",
    "    else:\n",
    "        median = num3\n",
    "\n",
    "print(\"The median is\", median)\n"
   ]
  },
  {
   "cell_type": "markdown",
   "metadata": {},
   "source": [
    "#### 41"
   ]
  },
  {
   "cell_type": "code",
   "execution_count": 102,
   "metadata": {},
   "outputs": [
    {
     "name": "stdout",
     "output_type": "stream",
     "text": [
      "222\n",
      "0\n",
      "Sum :  222.0    Average :  222.0\n"
     ]
    }
   ],
   "source": [
    "count = 0\n",
    "sum = 0.0\n",
    "number = 1\n",
    "\n",
    "while number != 0:\n",
    "    number = int(input(\"\"))\n",
    "    sum = sum + number\n",
    "    count = count + 1\n",
    "if count == 0:\n",
    "    print(\"NUM : \")\n",
    "else:\n",
    "    print(\"Sum : \",sum, \"   Average : \",sum / (count-1))"
   ]
  },
  {
   "cell_type": "markdown",
   "metadata": {},
   "source": [
    "#### 43"
   ]
  },
  {
   "cell_type": "code",
   "execution_count": 104,
   "metadata": {},
   "outputs": [
    {
     "name": "stdout",
     "output_type": "stream",
     "text": [
      "Enter number : 3\n",
      "3 x 1 = 3\n",
      "3 x 2 = 6\n",
      "3 x 3 = 9\n",
      "3 x 4 = 12\n",
      "3 x 5 = 15\n",
      "3 x 6 = 18\n",
      "3 x 7 = 21\n",
      "3 x 8 = 24\n",
      "3 x 9 = 27\n",
      "3 x 10 = 30\n"
     ]
    }
   ],
   "source": [
    "num = int(input(\"Enter number : \"))\n",
    "\n",
    "for i in range(1,11):\n",
    "    print(num,'x',i,'=',num*i)"
   ]
  },
  {
   "cell_type": "markdown",
   "metadata": {},
   "source": [
    "#### 44"
   ]
  },
  {
   "cell_type": "code",
   "execution_count": 1,
   "metadata": {},
   "outputs": [
    {
     "name": "stdout",
     "output_type": "stream",
     "text": [
      "\n",
      "1\n",
      "22\n",
      "333\n",
      "4444\n",
      "55555\n",
      "666666\n",
      "7777777\n",
      "88888888\n",
      "999999999\n"
     ]
    }
   ],
   "source": [
    "global str\n",
    "for x in range(10):\n",
    "    print(str(x) *  x)"
   ]
  },
  {
   "cell_type": "code",
   "execution_count": null,
   "metadata": {},
   "outputs": [],
   "source": []
  }
 ],
 "metadata": {
  "kernelspec": {
   "display_name": "Python 3",
   "language": "python",
   "name": "python3"
  },
  "language_info": {
   "codemirror_mode": {
    "name": "ipython",
    "version": 3
   },
   "file_extension": ".py",
   "mimetype": "text/x-python",
   "name": "python",
   "nbconvert_exporter": "python",
   "pygments_lexer": "ipython3",
   "version": "3.7.3"
  }
 },
 "nbformat": 4,
 "nbformat_minor": 4
}
